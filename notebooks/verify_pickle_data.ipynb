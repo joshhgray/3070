{
 "cells": [
  {
   "cell_type": "markdown",
   "metadata": {},
   "source": [
    "### Validating the Contents of the pickle file aka the pool of BGCs"
   ]
  },
  {
   "cell_type": "code",
   "execution_count": 2,
   "metadata": {},
   "outputs": [
    {
     "name": "stdout",
     "output_type": "stream",
     "text": [
      "Successfully loaded 3013 BGCs from pickle file.\n"
     ]
    }
   ],
   "source": [
    "import pickle\n",
    "\n",
    "pickle_file = \"../preprocessed_bgcs.pkl\"\n",
    "\n",
    "with open(pickle_file, 'rb') as f:\n",
    "    bgc_data = pickle.load(f)\n",
    "\n",
    "print(f\"Successfully loaded {len(bgc_data)} BGCs from pickle file.\")"
   ]
  },
  {
   "cell_type": "markdown",
   "metadata": {},
   "source": [
    "This matches the number of BGCs found in data_exploration.ipynb\n",
    "\n",
    "Next, validating the metadata:"
   ]
  },
  {
   "cell_type": "code",
   "execution_count": 15,
   "metadata": {},
   "outputs": [
    {
     "name": "stdout",
     "output_type": "stream",
     "text": [
      "BGC metadata:\n",
      " Accession: BGC0002584\n",
      " Biosynthesis Class: ribosomal\n",
      " Structure: CC[C@H](C)[C@@H](C(=O)OC)NC(=O)C1=C(OC(=N1)C2=CSC(=N2)C3=C(OC(=N3)C4=COC(=N4)[C@H](C(C)C)NC(=O)/C(=N/O)/C(C)C)C)C\n",
      " Mass: None\n",
      " Formula: None\n",
      " Taxonomy: Streptomyces sp. FXJ1.264\n"
     ]
    }
   ],
   "source": [
    "bgc = bgc_data[0]\n",
    "print(\"BGC metadata:\")\n",
    "print(f\" Accession: {bgc.get('accession')}\")\n",
    "print(f\" Biosynthesis Class: {bgc.get('biosynthesis', {}).get('classes', [{}])[0].get('class')}\")\n",
    "print(f\" Structure: {bgc.get('compounds', [{}])[0].get('structure')}\")\n",
    "print(f\" Mass: {bgc.get('compounds', [{}])[0].get('mass')}\")\n",
    "print(f\" Formula: {bgc.get('compounds', [{}])[0].get('formula')}\")\n",
    "print(f\" Taxonomy: {bgc.get('taxonomy', {}).get('name')}\")"
   ]
  },
  {
   "cell_type": "markdown",
   "metadata": {},
   "source": [
    "The data below was extracted from the original JSON related to BGC0002584\n",
    "- \"accession\": \"BGC0002584\"\n",
    "- \"class\": \"ribosomal\"\n",
    "- \"structure\": \"CC[C@H](C)[C@@H](C(=O)OC)NC(=O)C1=C(OC(=N1)C2=CSC(=N2)C3=C(OC(=N3)C4=COC(=N4)[C@H](C(C)C)NC(=O)/C(=N/O)/C(C)C)C)C\"\n",
    "- no mass in data\n",
    "- no formula in data\n",
    "- \"name\": \"Streptomyces sp. FXJ1.264\","
   ]
  },
  {
   "cell_type": "markdown",
   "metadata": {},
   "source": [
    "Next, verify graph creation success (BGCs can have multiple compounds, so the number of graphs will be higher than the total count of BGCs):"
   ]
  },
  {
   "cell_type": "code",
   "execution_count": 17,
   "metadata": {},
   "outputs": [
    {
     "name": "stdout",
     "output_type": "stream",
     "text": [
      "4401 molecular graphs present.\n"
     ]
    }
   ],
   "source": [
    "graph_count = sum(1 for bgc in bgc_data for c in bgc.get('compounds', []) if c.get('mol_graph'))\n",
    "print(f\"{graph_count} molecular graphs present.\")"
   ]
  },
  {
   "cell_type": "markdown",
   "metadata": {},
   "source": [
    "Next, verify there are no missing graphs"
   ]
  },
  {
   "cell_type": "code",
   "execution_count": 18,
   "metadata": {},
   "outputs": [
    {
     "name": "stdout",
     "output_type": "stream",
     "text": [
      "1042 compounds are missing graphs \n"
     ]
    }
   ],
   "source": [
    "missing_graphs = sum(1 for bgc in bgc_data for c in bgc.get('compounds', []) if c.get(\"mol_graph\") is None)\n",
    "print(f\"{missing_graphs} compounds are missing graphs \")"
   ]
  },
  {
   "cell_type": "markdown",
   "metadata": {},
   "source": [
    "Let's see how many total compounds there are, and where these missing graphs might be coming from:"
   ]
  },
  {
   "cell_type": "code",
   "execution_count": 23,
   "metadata": {},
   "outputs": [
    {
     "name": "stdout",
     "output_type": "stream",
     "text": [
      "Total compounds: 5443\n"
     ]
    }
   ],
   "source": [
    "total_compounds = sum(len(bgc.get('compounds', [])) for bgc in bgc_data)\n",
    "print(f\"Total compounds: {total_compounds}\")"
   ]
  },
  {
   "cell_type": "markdown",
   "metadata": {},
   "source": [
    "I suspect these may be coming from BGCs with multiple compounds and that an issue in the \n",
    "mol_to_graph module might be causing this many missing graphs."
   ]
  },
  {
   "cell_type": "code",
   "execution_count": 24,
   "metadata": {},
   "outputs": [
    {
     "name": "stdout",
     "output_type": "stream",
     "text": [
      "Number of missing graphs that come from compounds with multiple compounds: 563\n"
     ]
    }
   ],
   "source": [
    "bgcs_with_multiple_compounds = [bgc for bgc in bgc_data if len(bgc.get('compounds', [])) > 1]\n",
    "missing_graphs_from_multi_compound_bgcs = sum(1 for bgc in bgcs_with_multiple_compounds for c in bgc.get('compounds', []) if c.get('mol_graph') is None)\n",
    "print(f\"Number of missing graphs that come from compounds with multiple compounds: {missing_graphs_from_multi_compound_bgcs}\")"
   ]
  },
  {
   "cell_type": "markdown",
   "metadata": {},
   "source": [
    "This is alot, but still only about half, thus there is more than just a simple issue with mol_to_graph.\n",
    "Next, manually inspecting some of the BGCs with missing graphs."
   ]
  },
  {
   "cell_type": "code",
   "execution_count": null,
   "metadata": {},
   "outputs": [],
   "source": [
    "missing_graphs_bgcs = [\n",
    "    (bgc.get('accession'), c.get('structure'))\n",
    "    for bgc in bgc_data\n",
    "    for c in bgc.get('compounds', [])\n",
    "    if c.get('mol_graph') is None\n",
    "]"
   ]
  }
 ],
 "metadata": {
  "kernelspec": {
   "display_name": ".venv",
   "language": "python",
   "name": "python3"
  },
  "language_info": {
   "codemirror_mode": {
    "name": "ipython",
    "version": 3
   },
   "file_extension": ".py",
   "mimetype": "text/x-python",
   "name": "python",
   "nbconvert_exporter": "python",
   "pygments_lexer": "ipython3",
   "version": "3.10.12"
  }
 },
 "nbformat": 4,
 "nbformat_minor": 2
}
