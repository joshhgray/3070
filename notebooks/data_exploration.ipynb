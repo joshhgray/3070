{
 "cells": [
  {
   "cell_type": "code",
   "execution_count": 3,
   "metadata": {},
   "outputs": [],
   "source": [
    "import os\n",
    "import json"
   ]
  },
  {
   "cell_type": "code",
   "execution_count": 4,
   "metadata": {},
   "outputs": [],
   "source": [
    "mibig_json_dir = \"../mibig_json_4.0\""
   ]
  },
  {
   "cell_type": "code",
   "execution_count": 5,
   "metadata": {},
   "outputs": [],
   "source": [
    "bgc_data = []\n",
    "for file in os.listdir(mibig_json_dir):\n",
    "    if file.endswith(\".json\"):\n",
    "        file_path = os.path.join(mibig_json_dir, file)\n",
    "        with open(file_path, \"r\") as f:\n",
    "            data = json.load(f)\n",
    "            bgc_data.append(data)"
   ]
  },
  {
   "cell_type": "code",
   "execution_count": 6,
   "metadata": {},
   "outputs": [
    {
     "name": "stdout",
     "output_type": "stream",
     "text": [
      "3013 BGCs\n"
     ]
    }
   ],
   "source": [
    "print(f\"{len(bgc_data)} BGCs\")"
   ]
  },
  {
   "cell_type": "code",
   "execution_count": 7,
   "metadata": {},
   "outputs": [
    {
     "name": "stdout",
     "output_type": "stream",
     "text": [
      "dict_keys(['accession', 'version', 'changelog', 'quality', 'status', 'completeness', 'loci', 'biosynthesis', 'compounds', 'taxonomy', 'legacy_references'])\n"
     ]
    }
   ],
   "source": [
    "print(bgc_data[-1].keys())"
   ]
  },
  {
   "cell_type": "code",
   "execution_count": 8,
   "metadata": {},
   "outputs": [],
   "source": [
    "import json\n",
    "\n",
    "def count_attribute(bgc_data, attribute_path, key=None):\n",
    "    \"\"\"\n",
    "    Count how many BGCs have a specific attribute.\n",
    "\n",
    "    :param bgc_data: List of BGC dictionaries.\n",
    "    :param attribute_path: List of keys representing the path to the attribute\n",
    "    :param key: Key to check within the attribute.\n",
    "    :return: Count of BGCs with the specified attribute.\n",
    "    \"\"\"\n",
    "    count = 0\n",
    "    for bgc in bgc_data:\n",
    "        current = bgc\n",
    "        for key_part in attribute_path:\n",
    "            if key_part in current:\n",
    "                current = current[key_part]\n",
    "            else:\n",
    "                current = None\n",
    "                break\n",
    "        \n",
    "        if current:\n",
    "            if key:\n",
    "                # Check specific key in the attribute\n",
    "                if isinstance(current, list):\n",
    "                    if any(key in item for item in current if isinstance(item, dict)):\n",
    "                        count += 1\n",
    "                elif isinstance(current, dict) and key in current:\n",
    "                    count += 1\n",
    "            else:\n",
    "                # General check for non-empty attribute\n",
    "                count += 1\n",
    "\n",
    "    return count\n",
    "\n",
    "\n",
    "\n",
    "def count_cyclic_compounds(bgc_data):\n",
    "    \"\"\"\n",
    "    Count how many BGCs have at least one cyclic compound.\n",
    "    \"\"\"\n",
    "    return count_attribute(bgc_data, [\"compounds\"], \"cyclic\")\n",
    "\n"
   ]
  },
  {
   "cell_type": "markdown",
   "metadata": {},
   "source": [
    "Count the total number of BGCs:"
   ]
  },
  {
   "cell_type": "code",
   "execution_count": 15,
   "metadata": {},
   "outputs": [
    {
     "name": "stdout",
     "output_type": "stream",
     "text": [
      "Total Number of BGCs: 3013\n"
     ]
    }
   ],
   "source": [
    "total_bgcs = len(bgc_data)\n",
    "print(f\"Total Number of BGCs: {total_bgcs}\")"
   ]
  },
  {
   "cell_type": "markdown",
   "metadata": {},
   "source": [
    "Count the number of BGCs with Genes:"
   ]
  },
  {
   "cell_type": "code",
   "execution_count": 18,
   "metadata": {},
   "outputs": [
    {
     "name": "stdout",
     "output_type": "stream",
     "text": [
      "BGCs with genes: 674\n"
     ]
    }
   ],
   "source": [
    "bgc_with_genes = count_attribute(bgc_data, [\"genes\"])\n",
    "print(f\"BGCs with genes: {bgc_with_genes}\")"
   ]
  },
  {
   "cell_type": "markdown",
   "metadata": {},
   "source": [
    "Count the number of BGCs with annotations:"
   ]
  },
  {
   "cell_type": "code",
   "execution_count": 17,
   "metadata": {},
   "outputs": [
    {
     "name": "stdout",
     "output_type": "stream",
     "text": [
      "BGCs with gene annotations: 637\n"
     ]
    }
   ],
   "source": [
    "bgcs_with_annotations = count_attribute(bgc_data, [\"genes\", \"annotations\"])\n",
    "print(f\"BGCs with gene annotations: {bgcs_with_annotations}\")"
   ]
  },
  {
   "cell_type": "markdown",
   "metadata": {},
   "source": [
    "Count the number of BGCs with at least one cyclic compound:"
   ]
  },
  {
   "cell_type": "code",
   "execution_count": 21,
   "metadata": {},
   "outputs": [
    {
     "name": "stdout",
     "output_type": "stream",
     "text": [
      "BGCs with at least one cyclic compound: 260\n"
     ]
    }
   ],
   "source": [
    "bgcs_with_cyclic_compounds = count_attribute(bgc_data, [\"compounds\"], \"cyclic\")\n",
    "print(f\"BGCs with at least one cyclic compound: {bgcs_with_cyclic_compounds}\")"
   ]
  },
  {
   "cell_type": "markdown",
   "metadata": {},
   "source": [
    "Count the number of BGC with biosynthesis classes:"
   ]
  },
  {
   "cell_type": "code",
   "execution_count": 23,
   "metadata": {},
   "outputs": [
    {
     "name": "stdout",
     "output_type": "stream",
     "text": [
      "Number of BGCs with biosynthesis classes: 3013\n"
     ]
    }
   ],
   "source": [
    "num_biosynthesis_class = count_attribute(bgc_data, [\"biosynthesis\", \"classes\"])\n",
    "print(f\"Number of BGCs with biosynthesis classes: {num_biosynthesis_class}\")"
   ]
  },
  {
   "cell_type": "markdown",
   "metadata": {},
   "source": [
    "Count the number of BGCs with active modules:"
   ]
  },
  {
   "cell_type": "code",
   "execution_count": 20,
   "metadata": {},
   "outputs": [
    {
     "name": "stdout",
     "output_type": "stream",
     "text": [
      "Number of BGCs with active modules: 270\n"
     ]
    }
   ],
   "source": [
    "count = 0\n",
    "for bgc in bgc_data:\n",
    "    modules = bgc.get(\"biosynthesis\", {}).get(\"modules\", [])\n",
    "    if any(module.get(\"active\", False) for module in modules):\n",
    "        count += 1\n",
    "print(f\"Number of BGCs with active modules: {count}\")"
   ]
  },
  {
   "cell_type": "code",
   "execution_count": null,
   "metadata": {},
   "outputs": [],
   "source": []
  }
 ],
 "metadata": {
  "kernelspec": {
   "display_name": ".venv",
   "language": "python",
   "name": "python3"
  },
  "language_info": {
   "codemirror_mode": {
    "name": "ipython",
    "version": 3
   },
   "file_extension": ".py",
   "mimetype": "text/x-python",
   "name": "python",
   "nbconvert_exporter": "python",
   "pygments_lexer": "ipython3",
   "version": "3.10.12"
  }
 },
 "nbformat": 4,
 "nbformat_minor": 2
}
